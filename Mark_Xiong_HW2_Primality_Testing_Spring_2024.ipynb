{
  "cells": [
    {
      "cell_type": "markdown",
      "source": [
        "# Important: Use File -> Save a Copy in Drive to create a copy of this document. Edit *your copy* of the file. If you attempt to edit this file, your changes will not be saved."
      ],
      "metadata": {
        "id": "Mz-vGZ6VZ7YN"
      }
    },
    {
      "cell_type": "markdown",
      "metadata": {
        "id": "frtSFvBKQDrV"
      },
      "source": [
        "# Primality Testing\n",
        "\n",
        "In this notebook you will test different primality testing algorithms in terms of their success and running time. First you should use Eratosthenes' sieve to acquire all primes under 10,000."
      ]
    },
    {
      "cell_type": "code",
      "execution_count": 57,
      "metadata": {
        "id": "hqtMQerDQDrZ"
      },
      "outputs": [],
      "source": [
        "# Imports\n",
        "import math\n",
        "import random\n",
        "from datetime import datetime\n",
        "import numpy as np\n",
        "\n",
        "N = 10000"
      ]
    },
    {
      "cell_type": "code",
      "execution_count": 58,
      "metadata": {
        "id": "ILb4H15eQDrb",
        "colab": {
          "base_uri": "https://localhost:8080/"
        },
        "outputId": "d41262b3-3c93-4e03-eb6c-1b36c804ea60"
      },
      "outputs": [
        {
          "output_type": "stream",
          "name": "stdout",
          "text": [
            "1229\n"
          ]
        }
      ],
      "source": [
        "def sieve(n: int):\n",
        "    is_prime = np.ones(n + 1, dtype=bool)\n",
        "    is_prime[0] = False\n",
        "    is_prime[1] = False\n",
        "    p = 2\n",
        "    while (p*p <= n):\n",
        "      if is_prime[p] == True:\n",
        "        for i in range(p*p, n+1, p):\n",
        "          is_prime[i] = False\n",
        "      p+=1\n",
        "    primes = np.where(is_prime)[0]\n",
        "    return set(primes)\n",
        "\n",
        "primes = sieve(N)\n",
        "print(len(primes))"
      ]
    },
    {
      "cell_type": "markdown",
      "metadata": {
        "id": "8sWFWoOkQDrc"
      },
      "source": [
        "Write the Fermat primality test"
      ]
    },
    {
      "cell_type": "code",
      "execution_count": 65,
      "metadata": {
        "id": "Hu1wyoQqQDrc"
      },
      "outputs": [],
      "source": [
        "def fermat_is_prime(p: int, base=None):\n",
        "    if p == 2: return True\n",
        "    if p % 2 == 0 or p <= 1:  # Check if p is even or less than or equal to 1\n",
        "        return False\n",
        "    if base is None:\n",
        "        base = random.randint(2, p-1)\n",
        "    if math.gcd(p, base) != 1:  # Check if p and base are coprime\n",
        "        return False\n",
        "    result = pow(base, p - 1, p)  # Compute (base)^(p-1) % p\n",
        "    return result == 1\n"
      ]
    },
    {
      "cell_type": "markdown",
      "metadata": {
        "id": "quRXhOmfQDrd"
      },
      "source": [
        "Using a single or even a random base might not always work: $2^{340} \\equiv 1\\ (mod\\ 341)$, but $341 = 11 \\cdot 31$ is composite. These numbers are called *pseudoprimes*. There is a proof that for every composite number where the algorithm succeeds for at least one base, it will succeed for at least half of the bases. Write the repeated fermat primality test that answers the primality question correctly with probability $1 - \\delta$. In order to achieve that, you will call `fermat_is_prime` iteratively until the failure probability is less than $\\delta$."
      ]
    },
    {
      "cell_type": "code",
      "execution_count": 63,
      "metadata": {
        "id": "q-PjI9pXQDrd"
      },
      "outputs": [],
      "source": [
        "def boosted_fermat(p: int, delta=1e-6):\n",
        "    trust = 1\n",
        "    while trust > delta:\n",
        "        if not fermat_is_prime(p):\n",
        "          return False\n",
        "        trust /= 2\n",
        "    return True"
      ]
    },
    {
      "cell_type": "markdown",
      "metadata": {
        "id": "l92NtpH9QDre"
      },
      "source": [
        "There exist certain numbers that have **no** (non coprime) bases for which the fermat test works. Those are called [Carmichael numbers](https://en.wikipedia.org/wiki/Carmichael_number). Use your primality testing with $\\delta = 10^{-6}$ to print all Carmichael numbers."
      ]
    },
    {
      "cell_type": "code",
      "execution_count": 64,
      "metadata": {
        "id": "0KFHw26lQDre",
        "colab": {
          "base_uri": "https://localhost:8080/"
        },
        "outputId": "f53ab9ba-c31e-42db-beca-60810483da31"
      },
      "outputs": [
        {
          "output_type": "stream",
          "name": "stdout",
          "text": [
            "561\n",
            "1105\n",
            "1729\n",
            "2465\n",
            "2821\n",
            "6601\n",
            "8911\n"
          ]
        }
      ],
      "source": [
        "for p in range(2, N+1):\n",
        "    if not boosted_fermat(p):\n",
        "      is_carmichael = True\n",
        "      for base in range(2, p):\n",
        "        if math.gcd(p, base) == 1 and pow(base, p - 1, p) != 1:\n",
        "          is_carmichael = False\n",
        "          break\n",
        "      if is_carmichael:\n",
        "        print(p)"
      ]
    },
    {
      "cell_type": "markdown",
      "source": [],
      "metadata": {
        "id": "1Pwq2XNlVjcr"
      }
    }
  ],
  "metadata": {
    "kernelspec": {
      "display_name": "Python 3",
      "language": "python",
      "name": "python3"
    },
    "language_info": {
      "codemirror_mode": {
        "name": "ipython",
        "version": 3
      },
      "file_extension": ".py",
      "mimetype": "text/x-python",
      "name": "python",
      "nbconvert_exporter": "python",
      "pygments_lexer": "ipython3",
      "version": "3.7.6"
    },
    "colab": {
      "provenance": []
    }
  },
  "nbformat": 4,
  "nbformat_minor": 0
}